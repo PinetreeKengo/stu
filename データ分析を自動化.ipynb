{
  "nbformat": 4,
  "nbformat_minor": 0,
  "metadata": {
    "colab": {
      "provenance": []
    },
    "kernelspec": {
      "name": "python3",
      "display_name": "Python 3"
    },
    "language_info": {
      "name": "python"
    }
  },
  "cells": [
    {
      "cell_type": "code",
      "execution_count": 5,
      "metadata": {
        "colab": {
          "base_uri": "https://localhost:8080/"
        },
        "id": "5ro4byvyNY9q",
        "outputId": "8f60e11e-cd92-481e-8799-f7e5faee9d03"
      },
      "outputs": [
        {
          "output_type": "stream",
          "name": "stdout",
          "text": [
            "ファイルが見つかりません: data.csv\n"
          ]
        }
      ],
      "source": [
        "import pandas as pd\n",
        "import matplotlib.pyplot as plt\n",
        "from datetime import datetime\n",
        "\n",
        "def analyze_data(file_path):\n",
        "  \"\"\"\n",
        "  CSVファイルを読み込み、記述統計量を計算し、グラフを描画してレポートを作成する関数\n",
        "\n",
        "  Args:\n",
        "    file_path (str): CSVファイルのパス\n",
        "  \"\"\"\n",
        "  try:\n",
        "    # CSVファイルを読み込み\n",
        "    df = pd.read_csv(file_path)\n",
        "\n",
        "    # 記述統計量を計算\n",
        "    statistics = df.describe(include='all')\n",
        "\n",
        "    # レポートを作成\n",
        "    now = datetime.now().strftime(\"%Y%m%d%H%M%S\")\n",
        "    report_file = f\"data_analysis_report_{now}.txt\"\n",
        "    with open(report_file, \"w\") as f:\n",
        "      f.write(f\"データ分析レポート ({now})\\n\")\n",
        "      f.write(f\"ファイル: {file_path}\\n\\n\")\n",
        "\n",
        "      # 記述統計量をレポートに書き込み\n",
        "      f.write(statistics.to_string())\n",
        "      f.write(\"\\n\\n\")\n",
        "\n",
        "      # 各数値列についてヒストグラムを作成し、レポートに画像として追加\n",
        "      for column in df.select_dtypes(include=['number']):\n",
        "        plt.figure()  # 新しい図を作成\n",
        "        plt.hist(df[column], bins=10)\n",
        "        plt.xlabel(column)\n",
        "        plt.ylabel(\"Frequency\")\n",
        "        plt.title(f\"Histogram of {column}\")\n",
        "        plt.tight_layout()  # グラフのレイアウトを調整\n",
        "        image_file = f\"{column}_histogram.png\"\n",
        "        plt.savefig(image_file)  # 画像を保存\n",
        "        plt.close()  # メモリリークを防ぐために図を閉じる\n",
        "\n",
        "        # レポートに画像へのリンクを追加\n",
        "        f.write(f\"## {column} のヒストグラム\\n\")\n",
        "        f.write(f\"![{column} のヒストグラム]({image_file})\\n\\n\")\n",
        "\n",
        "    print(f\"レポートを作成しました: {report_file}\")\n",
        "\n",
        "  except FileNotFoundError:\n",
        "    print(f\"ファイルが見つかりません: {file_path}\")\n",
        "  except Exception as e:\n",
        "    print(f\"エラーが発生しました: {e}\")\n",
        "\n",
        "if __name__ == \"__main__\":\n",
        "  file_path = \"data.csv\"  # 分析するCSVファイル名\n",
        "  analyze_data(file_path)"
      ]
    }
  ]
}