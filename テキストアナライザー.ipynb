{
  "nbformat": 4,
  "nbformat_minor": 0,
  "metadata": {
    "colab": {
      "provenance": []
    },
    "kernelspec": {
      "name": "python3",
      "display_name": "Python 3"
    },
    "language_info": {
      "name": "python"
    }
  },
  "cells": [
    {
      "cell_type": "code",
      "execution_count": null,
      "metadata": {
        "id": "t81TaIoPHqKo"
      },
      "outputs": [],
      "source": [
        "import re\n",
        "\n",
        "def analyze_text(filename):\n",
        "    \"\"\"テキストファイルを読み込み、単語の出現頻度を分析する\"\"\"\n",
        "    word_counts = {}\n",
        "    with open(filename, 'r', encoding='utf-8') as file:\n",
        "        text = file.read()\n",
        "        words = re.findall(r'\\w+', text.lower()) # 単語のリストを取得\n",
        "        for word in words:\n",
        "            if word in word_counts:\n",
        "                word_counts[word] += 1\n",
        "            else:\n",
        "                word_counts[word] = 1\n",
        "\n",
        "    sorted_word_counts = sorted(word_counts.items(), key=lambda item: item[1], reverse=True)\n",
        "\n",
        "    for word, count in sorted_word_counts[:10]: # 出現頻度が高い上位10語を表示\n",
        "        print(f\"{word}: {count}\")\n",
        "\n",
        "if __name__ == \"__main__\":\n",
        "    filename = input(\"解析したいファイル名を入力してください: \")\n",
        "    analyze_text(filename)"
      ]
    }
  ]
}