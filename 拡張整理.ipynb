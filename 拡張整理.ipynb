{
  "nbformat": 4,
  "nbformat_minor": 0,
  "metadata": {
    "colab": {
      "provenance": []
    },
    "kernelspec": {
      "name": "python3",
      "display_name": "Python 3"
    },
    "language_info": {
      "name": "python"
    }
  },
  "cells": [
    {
      "cell_type": "code",
      "execution_count": 1,
      "metadata": {
        "id": "Qdn-RQBDRzdL"
      },
      "outputs": [],
      "source": [
        "import os\n",
        "import shutil\n",
        "\n",
        "def organize_files(root_path):\n",
        "\n",
        "  for dirpath, dirnames, filenames in os.walk(root_path):\n",
        "    for filename in filenames:\n",
        "      # ファイル名から拡張子を取得\n",
        "      base, ext = os.path.splitext(filename)\n",
        "\n",
        "      # 拡張子がなければスキップ\n",
        "      if not ext:\n",
        "        continue\n",
        "\n",
        "      # 拡張子からフォルダ名を作成 (先頭の . を削除)\n",
        "      folder_name = ext[1:]\n",
        "\n",
        "      # フォルダが存在しない場合は作成\n",
        "      folder_path = os.path.join(root_path, folder_name)\n",
        "      os.makedirs(folder_path, exist_ok=True)\n",
        "\n",
        "      # ファイルを移動\n",
        "      source_path = os.path.join(dirpath, filename)\n",
        "      destination_path = os.path.join(folder_path, filename)\n",
        "      shutil.move(source_path, destination_path)\n",
        "      print(f\"Moved: {source_path} -> {destination_path}\")\n",
        "\n",
        "if __name__ == \"__main__\":\n",
        "  root_path = \"/path/to/your/directory\"  # 整理したいディレクトリのパス\n",
        "  organize_files(root_path)"
      ]
    }
  ]
}